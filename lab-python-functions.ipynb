{
 "cells": [
  {
   "cell_type": "markdown",
   "id": "25d7736c-ba17-4aff-b6bb-66eba20fbf4e",
   "metadata": {},
   "source": [
    "# Lab | Functions"
   ]
  },
  {
   "cell_type": "markdown",
   "id": "0c581062-8967-4d93-b06e-62833222f930",
   "metadata": {
    "tags": []
   },
   "source": [
    "## Exercise: Managing Customer Orders with Functions\n",
    "\n",
    "In the previous exercise, you improved the code for managing customer orders by using loops and flow control. Now, let's take it a step further and refactor the code by introducing functions.\n",
    "\n",
    "Follow the steps below to complete the exercise:\n",
    "\n",
    "1. Define a function named `initialize_inventory` that takes `products` as a parameter. Inside the function, implement the code for initializing the inventory dictionary using a loop and user input."
   ]
  },
  {
   "cell_type": "code",
   "execution_count": 24,
   "id": "60d5959a",
   "metadata": {},
   "outputs": [
    {
     "name": "stdout",
     "output_type": "stream",
     "text": [
      "['t-shirt', 'mug', 'hat', 'book', 'keychain']\n",
      "{'t-shirt': 1, 'mug': 2, 'hat': 3, 'book': 4, 'keychain': 5}\n"
     ]
    }
   ],
   "source": [
    "products = [\"t-shirt\", \"mug\", \"hat\", \"book\", \"keychain\"]\n",
    "print(products)\n",
    "\n",
    "inventory = {}\n",
    "\n",
    "def initialize_inventory(products):\n",
    "    for product in products:\n",
    "        quantity = int(input(\"how many \" + product + \" are there?\"))\n",
    "        inventory[product] = quantity\n",
    "\n",
    "initialize_inventory(products)\n",
    "\n",
    "print(inventory)"
   ]
  },
  {
   "cell_type": "markdown",
   "id": "f581ed03",
   "metadata": {},
   "source": [
    "\n",
    "2. Define a function named `get_customer_orders` that takes no parameters. Inside the function, implement the code for prompting the user to enter the product names using a loop. The function should return the `customer_orders` set."
   ]
  },
  {
   "cell_type": "code",
   "execution_count": 29,
   "id": "4f6bc0de",
   "metadata": {},
   "outputs": [
    {
     "name": "stdout",
     "output_type": "stream",
     "text": [
      "current order status:  {'mug'}\n",
      "last order status:  {'book', 'mug'}\n",
      "{'book', 'mug'}\n"
     ]
    }
   ],
   "source": [
    "customer_orders = set()\n",
    "\n",
    "def get_customer_orders(customer_orders):\n",
    "    pick = input(f\"Choose a product from the list {products}: \")\n",
    "    if pick in products:\n",
    "        customer_orders.add(pick)\n",
    "        more = input(\"Another one? y/n\")\n",
    "        if more == \"y\":\n",
    "            print(\"current order status: \", customer_orders)\n",
    "            get_customer_orders(customer_orders)\n",
    "        elif more == \"n\":\n",
    "            print(\"last order status: \", customer_orders)\n",
    "            return customer_orders\n",
    "        else:\n",
    "            print(\"please type y/n\")\n",
    "    else:\n",
    "        print(\"Please choose a valid product.\")\n",
    "    return customer_orders\n",
    "   \n",
    "get_customer_orders(customer_orders)\n",
    "\n",
    "print(\"Customet Orders: \", customer_orders)"
   ]
  },
  {
   "cell_type": "markdown",
   "id": "fdb1302a",
   "metadata": {},
   "source": [
    "3. Define a function named `update_inventory` that takes `customer_orders` and `inventory` as parameters. Inside the function, implement the code for updating the inventory dictionary based on the customer orders."
   ]
  },
  {
   "cell_type": "code",
   "execution_count": null,
   "id": "d2c00928",
   "metadata": {},
   "outputs": [],
   "source": [
    "def update_inventory(custormer_orders, inventory):\n",
    "    for product in products:\n",
    "        quantity = int(input(\"how many \" + product + \" are there?\"))\n",
    "        inventory[product] = quantity\n",
    "    return inventory\n",
    "\n",
    "print(update_inventory(customer_orders, inventory))"
   ]
  },
  {
   "cell_type": "markdown",
   "id": "96c55bcd",
   "metadata": {},
   "source": [
    "\n",
    "4. Define a function named `calculate_order_statistics` that takes `customer_orders` and `products` as parameters. Inside the function, implement the code for calculating the order statistics (total products ordered, and percentage of unique products ordered). The function should return these values.\n"
   ]
  },
  {
   "cell_type": "markdown",
   "id": "d4b2d6f8",
   "metadata": {},
   "source": [
    "\n",
    "5. Define a function named `print_order_statistics` that takes `order_statistics` as a parameter. Inside the function, implement the code for printing the order statistics.\n"
   ]
  },
  {
   "cell_type": "markdown",
   "id": "afe551b3",
   "metadata": {},
   "source": [
    "\n",
    "6. Define a function named `print_updated_inventory` that takes `inventory` as a parameter. Inside the function, implement the code for printing the updated inventory.\n"
   ]
  },
  {
   "cell_type": "markdown",
   "id": "14a4ea54",
   "metadata": {},
   "source": [
    "\n",
    "7. Call the functions in the appropriate sequence to execute the program and manage customer orders.\n"
   ]
  },
  {
   "cell_type": "markdown",
   "id": "ad98b40d",
   "metadata": {},
   "source": [
    "\n",
    "Hints for functions:\n",
    "\n",
    "- Consider the input parameters required for each function and their return values.\n",
    "- Utilize function parameters and return values to transfer data between functions.\n",
    "- Test your functions individually to ensure they work correctly.\n",
    "\n",
    "\n"
   ]
  }
 ],
 "metadata": {
  "kernelspec": {
   "display_name": "Python 3",
   "language": "python",
   "name": "python3"
  },
  "language_info": {
   "codemirror_mode": {
    "name": "ipython",
    "version": 3
   },
   "file_extension": ".py",
   "mimetype": "text/x-python",
   "name": "python",
   "nbconvert_exporter": "python",
   "pygments_lexer": "ipython3",
   "version": "3.13.1"
  }
 },
 "nbformat": 4,
 "nbformat_minor": 5
}
